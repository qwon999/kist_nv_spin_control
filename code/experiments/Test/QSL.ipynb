{
 "cells": [
  {
   "attachments": {},
   "cell_type": "markdown",
   "metadata": {},
   "source": [
    "Hamiltonian이 고정된 상태라면, Quantum Speed Limit 쉽게 계산 가능\n",
    "하지만, pulse가 포함된 상황이라면, 최단경로 찾는 노력이 결국 QSL찾는 노력이랑 같음"
   ]
  },
  {
   "cell_type": "code",
   "execution_count": 19,
   "metadata": {},
   "outputs": [],
   "source": [
    "import numpy as np\n",
    "from qutip import Qobj, sesolve"
   ]
  },
  {
   "cell_type": "code",
   "execution_count": 20,
   "metadata": {},
   "outputs": [],
   "source": [
    "j = (-1)**0.5\n",
    "\n",
    "sx = np.array([[0, 1], [1, 0]])\n",
    "sy = np.array([[0, -j], [j, 0]])\n",
    "sz = np.array([[1, 0], [0, -1]])\n",
    "s0 = np.array([[1, 0], [0, 1]])\n",
    "\n",
    "d0 = 0.00\n",
    "v0 = 0.02\n",
    "\n",
    "H = Qobj(d0*sz+v0*sx)"
   ]
  },
  {
   "cell_type": "code",
   "execution_count": 33,
   "metadata": {},
   "outputs": [],
   "source": [
    "\n",
    "\n",
    "# Define the Hamiltonian\n",
    "#H = Qobj([[1, 0], [0, -1]])\n",
    "\n",
    "# Define the initial and final states\n",
    "psi0 = Qobj([[1], [0]])\n",
    "psif = Qobj([[0], [1]])\n",
    "\n",
    "# Define the time range over which to evolve the system\n",
    "t = np.linspace(0, 100, 1000)\n",
    "\n",
    "# Define the function that calculates the overlap between two states\n",
    "def overlap(psi1, psi2):\n",
    "    return abs((psi1.dag() * psi2).full()[0][0])\n",
    "\n",
    "# Evolve the system and calculate the overlap at each time step\n",
    "result = sesolve(H, psi0, t)\n",
    "overlaps = [overlap(psi_t, psif) for psi_t in result.states]\n",
    "\n",
    "# The QSL is the minimum time at which the overlap exceeds a threshold close to 1\n",
    "threshold = 0.9999995\n",
    "qsl = t[next(i for i, overlap in enumerate(overlaps) if overlap >= threshold)]\n",
    "\n"
   ]
  },
  {
   "cell_type": "code",
   "execution_count": 34,
   "metadata": {},
   "outputs": [
    {
     "data": {
      "text/plain": [
       "78.57857857857859"
      ]
     },
     "execution_count": 34,
     "metadata": {},
     "output_type": "execute_result"
    }
   ],
   "source": [
    "qsl"
   ]
  },
  {
   "cell_type": "code",
   "execution_count": 23,
   "metadata": {},
   "outputs": [
    {
     "data": {
      "text/latex": [
       "Quantum object: dims = [[2], [2]], shape = (2, 2), type = oper, isherm = True $ \\\\ \\left(\\begin{matrix}0.0 & 0.020\\\\0.020 & 0.0\\\\\\end{matrix}\\right)$"
      ],
      "text/plain": [
       "Quantum object: dims = [[2], [2]], shape = (2, 2), type = oper, isherm = True\n",
       "Qobj data =\n",
       "[[0.   0.02]\n",
       " [0.02 0.  ]]"
      ]
     },
     "execution_count": 23,
     "metadata": {},
     "output_type": "execute_result"
    }
   ],
   "source": [
    "H"
   ]
  },
  {
   "cell_type": "code",
   "execution_count": null,
   "metadata": {},
   "outputs": [],
   "source": []
  }
 ],
 "metadata": {
  "kernelspec": {
   "display_name": "kist",
   "language": "python",
   "name": "python3"
  },
  "language_info": {
   "codemirror_mode": {
    "name": "ipython",
    "version": 3
   },
   "file_extension": ".py",
   "mimetype": "text/x-python",
   "name": "python",
   "nbconvert_exporter": "python",
   "pygments_lexer": "ipython3",
   "version": "3.9.13"
  },
  "orig_nbformat": 4
 },
 "nbformat": 4,
 "nbformat_minor": 2
}
